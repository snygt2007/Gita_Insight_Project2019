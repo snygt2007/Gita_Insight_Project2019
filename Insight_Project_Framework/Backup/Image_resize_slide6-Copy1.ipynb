{
 "cells": [
  {
   "cell_type": "code",
   "execution_count": 1,
   "metadata": {},
   "outputs": [
    {
     "name": "stderr",
     "output_type": "stream",
     "text": [
      "Using TensorFlow backend.\n"
     ]
    }
   ],
   "source": [
    "import keras\n",
    "import xmltodict\n",
    "import os\n",
    "import typing\n",
    "import re\n",
    "import matplotlib.pyplot as plt\n",
    "import pandas as pd\n",
    "import glob\n",
    "import os\n",
    "import math\n",
    "import numpy as np\n",
    "import cv2\n",
    "import json\n",
    "from pathlib import Path"
   ]
  },
  {
   "cell_type": "code",
   "execution_count": 2,
   "metadata": {},
   "outputs": [],
   "source": [
    "#import all libraries\n",
    "from PIL import Image, ImageOps,ImageFilter\n",
    "#import cv2\n",
    "import time\n",
    "import argparse\n",
    "from scipy import ndimage\n",
    "from scipy import misc\n",
    "%matplotlib inline\n",
    "import readline\n",
    "readline.parse_and_bind(\"tab: complete\")\n",
    "from scipy import ndimage\n",
    "from multiprocessing.pool import ThreadPool\n",
    "\n",
    "from urllib.request import Request, urlopen, HTTPError\n",
    "import ssl"
   ]
  },
  {
   "cell_type": "code",
   "execution_count": 3,
   "metadata": {},
   "outputs": [],
   "source": [
    "#Image processing for resizing images\n",
    "def fix_aspect_ratio(img,expected_dimension):\n",
    "    original_max_dim = max(float(img.size[0]),float(img.size[1]))\n",
    "    original_min_dim = min(float(img.size[0]),float(img.size[1]))\n",
    "    wpercent = (expected_dimension/float(original_max_dim))\n",
    "    hsize = int((original_min_dim*float(wpercent)))\n",
    "    new_im = img.resize((expected_dimension,hsize), Image.ANTIALIAS)\n",
    "    return new_im"
   ]
  },
  {
   "cell_type": "code",
   "execution_count": 4,
   "metadata": {},
   "outputs": [],
   "source": [
    "# Make square images\n",
    "def make_square(img, min_size=120, fill_color=(0, 0, 0, 0)):\n",
    "    x, y = img.size\n",
    "    size = max(min_size, x, y)\n",
    "    new_im = Image.new('RGBA', (size, size), fill_color)\n",
    "    new_im.paste(img, (int((size - x) / 2), int((size - y) / 2)))\n",
    "    return new_im"
   ]
  },
  {
   "cell_type": "code",
   "execution_count": 5,
   "metadata": {},
   "outputs": [],
   "source": [
    "# Sharpen the edges\n",
    "from pylab import *\n",
    "def sharpen_filter(img):\n",
    "    sharp_im = img.filter(ImageFilter.SHARPEN)\n",
    "    return sharp_im"
   ]
  },
  {
   "cell_type": "code",
   "execution_count": 6,
   "metadata": {},
   "outputs": [],
   "source": [
    "# Load dataset of logos in a dataframe\n",
    "def get_logos_df(glob_path,dir_litw_resized,folder,size_threshold):\n",
    "    df_logos = pd.DataFrame(columns=['true_logo','logo_img_name','original_image_name','logo_img_path','company_brand','X_size','Y_size'])\n",
    "     # in each folder, find image file and resize-scale them without distortion\n",
    "    index_image= 1;\n",
    "    expected_dimension=120\n",
    "    image_numbers = 200\n",
    "    \n",
    "    #image_array = np.ndarray((image_numbers,120,120,3),dtype=np.uint8)\n",
    "    glob_path_complete = os.path.join(glob_path,folder)\n",
    "    \n",
    "    files = [f_img_name for f_img_name in glob.glob(glob_path_complete + \"**/*.jpg\", recursive=True)]\n",
    "    print(len(files))\n",
    "    \n",
    "    mod_folder_name = 'Mod-' + str(folder)\n",
    "    mod_full_dir = os.path.join(dir_litw_resized,mod_folder_name) \n",
    "    \n",
    "    for filename in files:\n",
    "         with open(filename) as imagefile:\n",
    "            head, tail = os.path.split(filename)            \n",
    "            orig_img = os.path.join(glob_path_complete,tail)            \n",
    "            img_mod_name = folder +'-AB-'+ str(index_image) +'.png'\n",
    "            \n",
    "            os.makedirs(mod_full_dir, exist_ok=True)\n",
    "            path_to_image = os.path.join(mod_full_dir,img_mod_name)\n",
    "            \n",
    "            \n",
    "            company_brand_name = folder\n",
    "            image_original = Image.open(orig_img)\n",
    "            get_file_data_shape_x, get_file_data_shape_y = image_original.size\n",
    "            max_size_dimension = max(float(get_file_data_shape_x),float(get_file_data_shape_y))\n",
    "            if max_size_dimension < size_threshold:\n",
    "                continue\n",
    "            image_aspect=fix_aspect_ratio(image_original,expected_dimension)\n",
    "            \n",
    "            img_new = make_square(image_aspect)\n",
    "            \n",
    "            sharpen_image=sharpen_filter(img_new)\n",
    "            im_med = ndimage.median_filter(sharpen_image, 3)\n",
    "            \n",
    "            row = pd.Series({'true_logo' :1,\n",
    "                            'logo_img_name' :img_mod_name,\n",
    "                             'original_image_name' :orig_img,\n",
    "                             'logo_img_path' :path_to_image,\n",
    "                             'company_brand' :folder,\n",
    "                             'X_size' :get_file_data_shape_x,\n",
    "                             'Y_size' :get_file_data_shape_y})\n",
    "            df_logos = df_logos.append(row,ignore_index=True)            \n",
    "            \n",
    "            file_name=os.path.join(mod_full_dir,img_mod_name)\n",
    "            misc.imsave(file_name, im_med)\n",
    "            index_image =index_image+1                 \n",
    "    return df_logos     \n",
    "           \n",
    "        "
   ]
  },
  {
   "cell_type": "code",
   "execution_count": 7,
   "metadata": {},
   "outputs": [],
   "source": [
    "# Prepare the logos dataset datastructure\n",
    "# Set threshold for the size of the logo images to avoid heavy distortion due to resize\n",
    "def get_all_images():\n",
    "    dir_litw=Path(\"c:/Users/Sanyogita/Documents/Insight/projects/Trademark_RADAR/data/\")\n",
    "    dir_litw_resized=Path(\"c:/Users/Sanyogita/Documents/Insight/projects/Trademark_RADAR/resized_data\")\n",
    "    df_list=[]\n",
    "\n",
    "    for folder in sorted(os.listdir(dir_litw), key=str.casefold):\n",
    "        glob_path_complete = os.path.join(dir_litw,folder)\n",
    "    \n",
    "        files = [f_img_name for f_img_name in glob.glob(glob_path_complete + \"**/*.jpg\", recursive=True)]\n",
    "    #if len(files) < 99:\n",
    "        #continue  \n",
    "        size_threshold=62\n",
    "        df_list.append(get_logos_df(dir_litw,dir_litw_resized,folder,size_threshold))\n",
    "    \n",
    "        tp_df = pd.concat(df_list, ignore_index=True)      \n",
    "        \n",
    "    return tp_df"
   ]
  },
  {
   "cell_type": "code",
   "execution_count": 8,
   "metadata": {},
   "outputs": [],
   "source": [
    "# Get the count of images in each brand\n",
    "def Get_brand_img_count(threshold_count):\n",
    "    # Plotn the graphs for demo\n",
    "    tp_df=get_all_images()\n",
    "    print(str(tp_df.shape))\n",
    "    print(\"X median\",str(tp_df['X_size'].median()))\n",
    "    print(\"X mean\",str(tp_df['X_size'].mean()))\n",
    "\n",
    "    print(\"Y median\",str(tp_df['Y_size'].median()))\n",
    "    print(\"Y mean\",str(tp_df['Y_size'].mean()))\n",
    "    tp_group_by=tp_df.groupby('company_brand').size().plot(kind='bar',color='green')\n",
    "    plt.show()\n",
    "    # Get image counts per brand\n",
    "    tp_group_by_stage1=tp_df.groupby('company_brand').size()\n",
    "    fp_series = pd.Series(tp_df['company_brand']).value_counts()\n",
    "    plt.figure(figsize=(15, 5))\n",
    "    fp_series[fp_series > threshold_count].plot.bar(color='limegreen')\n",
    "    fp_series[fp_series > threshold_count].head()\n",
    "    plt.rcParams.update({'font.size': 18})\n",
    "    Count_brand_logos=(fp_series.values)\n",
    "    print((Count_brand_logos))\n",
    "    \n",
    "    return Count_brand_logos, tp_df"
   ]
  },
  {
   "cell_type": "code",
   "execution_count": 9,
   "metadata": {},
   "outputs": [
    {
     "name": "stdout",
     "output_type": "stream",
     "text": [
      "227\n"
     ]
    },
    {
     "name": "stderr",
     "output_type": "stream",
     "text": [
      "C:\\ProgramData\\Anaconda3\\lib\\site-packages\\ipykernel_launcher.py:51: DeprecationWarning: `imsave` is deprecated!\n",
      "`imsave` is deprecated in SciPy 1.0.0, and will be removed in 1.2.0.\n",
      "Use ``imageio.imwrite`` instead.\n"
     ]
    },
    {
     "name": "stdout",
     "output_type": "stream",
     "text": [
      "222\n",
      "44\n",
      "2\n",
      "11\n",
      "37\n",
      "99\n",
      "309\n",
      "167\n",
      "100\n",
      "14\n",
      "214\n",
      "9\n",
      "(288, 7)\n",
      "X median 90.5\n",
      "X mean 122.95833333333333\n",
      "Y median 66.0\n",
      "Y mean 85.75347222222223\n"
     ]
    },
    {
     "data": {
      "image/png": "[encoded data removed]",
      "text/plain": [
       "<Figure size 432x288 with 1 Axes>"
      ]
     },
     "metadata": {
      "needs_background": "light"
     },
     "output_type": "display_data"
    },
    {
     "name": "stdout",
     "output_type": "stream",
     "text": [
      "[75 43 43 39 35 17 14 12  4  3  3]\n"
     ]
    },
    {
     "data": {
      "image/png": "[encoded data removed]",
      "text/plain": [
       "<Figure size 1080x360 with 1 Axes>"
      ]
     },
     "metadata": {
      "needs_background": "light"
     },
     "output_type": "display_data"
    }
   ],
   "source": [
    "# Call counting and plotting functions for gathering dataset information\n",
    "[Count_brand_logos,tp_df] = Get_brand_img_count(10)\n"
   ]
  },
  {
   "cell_type": "code",
   "execution_count": 10,
   "metadata": {},
   "outputs": [],
   "source": [
    "# Filter images from the dataset and select brands with larger number of images\n",
    "def create_matrix(df, *company_names):\n",
    "    \n",
    "    df_filtered=df[df['company_brand'].isin(company_names)]\n",
    "       \n",
    "    return df_filtered"
   ]
  },
  {
   "cell_type": "code",
   "execution_count": 11,
   "metadata": {},
   "outputs": [
    {
     "data": {
      "text/html": [
       "<div>\n",
       "<style scoped>\n",
       "    .dataframe tbody tr th:only-of-type {\n",
       "        vertical-align: middle;\n",
       "    }\n",
       "\n",
       "    .dataframe tbody tr th {\n",
       "        vertical-align: top;\n",
       "    }\n",
       "\n",
       "    .dataframe thead th {\n",
       "        text-align: right;\n",
       "    }\n",
       "</style>\n",
       "<table border=\"1\" class=\"dataframe\">\n",
       "  <thead>\n",
       "    <tr style=\"text-align: right;\">\n",
       "      <th></th>\n",
       "      <th>true_logo</th>\n",
       "      <th>logo_img_name</th>\n",
       "      <th>original_image_name</th>\n",
       "      <th>logo_img_path</th>\n",
       "      <th>company_brand</th>\n",
       "      <th>X_size</th>\n",
       "      <th>Y_size</th>\n",
       "    </tr>\n",
       "  </thead>\n",
       "  <tbody>\n",
       "    <tr>\n",
       "      <th>0</th>\n",
       "      <td>1</td>\n",
       "      <td>audi-symbol-AB-1.png</td>\n",
       "      <td>c:\\Users\\Sanyogita\\Documents\\Insight\\projects\\...</td>\n",
       "      <td>c:\\Users\\Sanyogita\\Documents\\Insight\\projects\\...</td>\n",
       "      <td>audi-symbol</td>\n",
       "      <td>85</td>\n",
       "      <td>45</td>\n",
       "    </tr>\n",
       "    <tr>\n",
       "      <th>1</th>\n",
       "      <td>1</td>\n",
       "      <td>audi-symbol-AB-2.png</td>\n",
       "      <td>c:\\Users\\Sanyogita\\Documents\\Insight\\projects\\...</td>\n",
       "      <td>c:\\Users\\Sanyogita\\Documents\\Insight\\projects\\...</td>\n",
       "      <td>audi-symbol</td>\n",
       "      <td>146</td>\n",
       "      <td>72</td>\n",
       "    </tr>\n",
       "    <tr>\n",
       "      <th>2</th>\n",
       "      <td>1</td>\n",
       "      <td>audi-symbol-AB-3.png</td>\n",
       "      <td>c:\\Users\\Sanyogita\\Documents\\Insight\\projects\\...</td>\n",
       "      <td>c:\\Users\\Sanyogita\\Documents\\Insight\\projects\\...</td>\n",
       "      <td>audi-symbol</td>\n",
       "      <td>180</td>\n",
       "      <td>67</td>\n",
       "    </tr>\n",
       "    <tr>\n",
       "      <th>3</th>\n",
       "      <td>1</td>\n",
       "      <td>audi-symbol-AB-4.png</td>\n",
       "      <td>c:\\Users\\Sanyogita\\Documents\\Insight\\projects\\...</td>\n",
       "      <td>c:\\Users\\Sanyogita\\Documents\\Insight\\projects\\...</td>\n",
       "      <td>audi-symbol</td>\n",
       "      <td>83</td>\n",
       "      <td>117</td>\n",
       "    </tr>\n",
       "    <tr>\n",
       "      <th>4</th>\n",
       "      <td>1</td>\n",
       "      <td>audi-symbol-AB-5.png</td>\n",
       "      <td>c:\\Users\\Sanyogita\\Documents\\Insight\\projects\\...</td>\n",
       "      <td>c:\\Users\\Sanyogita\\Documents\\Insight\\projects\\...</td>\n",
       "      <td>audi-symbol</td>\n",
       "      <td>70</td>\n",
       "      <td>76</td>\n",
       "    </tr>\n",
       "  </tbody>\n",
       "</table>\n",
       "</div>"
      ],
      "text/plain": [
       "  true_logo         logo_img_name  \\\n",
       "0         1  audi-symbol-AB-1.png   \n",
       "1         1  audi-symbol-AB-2.png   \n",
       "2         1  audi-symbol-AB-3.png   \n",
       "3         1  audi-symbol-AB-4.png   \n",
       "4         1  audi-symbol-AB-5.png   \n",
       "\n",
       "                                 original_image_name  \\\n",
       "0  c:\\Users\\Sanyogita\\Documents\\Insight\\projects\\...   \n",
       "1  c:\\Users\\Sanyogita\\Documents\\Insight\\projects\\...   \n",
       "2  c:\\Users\\Sanyogita\\Documents\\Insight\\projects\\...   \n",
       "3  c:\\Users\\Sanyogita\\Documents\\Insight\\projects\\...   \n",
       "4  c:\\Users\\Sanyogita\\Documents\\Insight\\projects\\...   \n",
       "\n",
       "                                       logo_img_path company_brand X_size  \\\n",
       "0  c:\\Users\\Sanyogita\\Documents\\Insight\\projects\\...   audi-symbol     85   \n",
       "1  c:\\Users\\Sanyogita\\Documents\\Insight\\projects\\...   audi-symbol    146   \n",
       "2  c:\\Users\\Sanyogita\\Documents\\Insight\\projects\\...   audi-symbol    180   \n",
       "3  c:\\Users\\Sanyogita\\Documents\\Insight\\projects\\...   audi-symbol     83   \n",
       "4  c:\\Users\\Sanyogita\\Documents\\Insight\\projects\\...   audi-symbol     70   \n",
       "\n",
       "  Y_size  \n",
       "0     45  \n",
       "1     72  \n",
       "2     67  \n",
       "3    117  \n",
       "4     76  "
      ]
     },
     "execution_count": 11,
     "metadata": {},
     "output_type": "execute_result"
    }
   ],
   "source": [
    "# get all brand images that are resizes, processed. these brands have sufficient data for training\n",
    "df_filtered=create_matrix(tp_df,'audi-symbol','toyota','mercedes')\n",
    "df_filtered.head()\n"
   ]
  },
  {
   "cell_type": "code",
   "execution_count": 12,
   "metadata": {},
   "outputs": [],
   "source": [
    "# select few samples from the company brands to evaluate the feasibility of the co-occurrence matrix\n",
    "# Output: Input images X and their labels y\n",
    "from skimage.feature import greycomatrix, greycoprops\n",
    "from skimage import data,io\n",
    "import matplotlib.image as mpimg\n",
    "\n",
    "def Get_initial_data(df_filtered,Count_brand_logos):\n",
    "    xs = []\n",
    "    ys = []\n",
    "    \n",
    "    defect_image_num = len(df_filtered) # number of distinct brands*num_of images_each_brand base don the threshold\n",
    "    print(defect_image_num)\n",
    "    defect_imgs = np.ndarray((defect_image_num, 120, 120), dtype=np.uint8)\n",
    "    y = np.array(df_filtered['true_logo'],dtype=int)\n",
    "    index = 0\n",
    "\n",
    "    for index_df, record in df_filtered.iterrows():\n",
    "        x = io.imread(record['logo_img_path'])\n",
    "        red = x[:,:,2]\n",
    "        green = x[:,:,1]\n",
    "        blue = x[:,:,0]\n",
    "        image_2D = x[:,:,3]\n",
    "        #glcm = greycomatrix(nir,  [5], [0, np.pi/4, np.pi/2], levels=256, normed=True, symmetric=True)\n",
    "        glcm = greycomatrix(image_2D,[5], [0], levels=256, symmetric=True, normed=True)\n",
    "        xs.append(greycoprops(glcm, 'correlation')[0, 0])\n",
    "        ys.append(greycoprops(glcm, 'dissimilarity')[0, 0])\n",
    "        index += 1\n",
    "        X = defect_imgs        \n",
    "\n",
    "    fig = plt.figure(figsize=(8, 8)) \n",
    "    ax = fig.add_subplot(1, 1, 1)\n",
    "    ax.plot(xs[:Count_brand_logos[0]], ys[:Count_brand_logos[0]], 'go',\n",
    "        label='audi')\n",
    "    ax.plot(xs[:Count_brand_logos[1]], ys[:Count_brand_logos[1]], 'bo',\n",
    "        label='toyota')\n",
    "    ax.plot(xs[:Count_brand_logos[2]], ys[:Count_brand_logos[2]], 'rs',\n",
    "        label='mercedes')\n",
    "    ax.set_xlabel('GLCM correlation',fontsize=28)\n",
    "    ax.set_ylabel('GLCM dissimilarity',fontsize=28)\n",
    "    ax.legend()\n",
    "    plt.setp(plt.gca().get_legend().get_texts(), fontsize='20') \n",
    "    plt.rcParams.update({'font.size': 28})\n",
    "    return X,y    "
   ]
  },
  {
   "cell_type": "code",
   "execution_count": 13,
   "metadata": {},
   "outputs": [
    {
     "name": "stdout",
     "output_type": "stream",
     "text": [
      "161\n"
     ]
    },
    {
     "data": {
      "image/png": "[encoded data removed]",
      "text/plain": [
       "<Figure size 576x576 with 1 Axes>"
      ]
     },
     "metadata": {
      "needs_background": "light"
     },
     "output_type": "display_data"
    }
   ],
   "source": [
    "#Get all the images and labels\n",
    "#Plot the similarity matrix\n",
    "X,y = Get_initial_data(df_filtered,Count_brand_logos)"
   ]
  },
  {
   "cell_type": "code",
   "execution_count": null,
   "metadata": {},
   "outputs": [],
   "source": []
  }
 ],
 "metadata": {
  "kernelspec": {
   "display_name": "Python 3",
   "language": "python",
   "name": "python3"
  },
  "language_info": {
   "codemirror_mode": {
    "name": "ipython",
    "version": 3
   },
   "file_extension": ".py",
   "mimetype": "text/x-python",
   "name": "python",
   "nbconvert_exporter": "python",
   "pygments_lexer": "ipython3",
   "version": "3.7.3"
  }
 },
 "nbformat": 4,
 "nbformat_minor": 2
}
